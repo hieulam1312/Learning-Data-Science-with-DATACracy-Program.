{
 "cells": [
  {
   "cell_type": "markdown",
   "metadata": {},
   "source": [
    "### TODO #1\n",
    "1. Thử un-comment bằng cách để dấu nháy chuột ở dòng print(json_data) và nhấn `Ctrl+/`. Sau đó, chạy lại.\n",
    "2. Cấu trúc của `json_data` tương tự `dictionary`: thử gọi biến `SENDER_EMAIL` trong file json và `print`\n",
    "=> Task này sẽ giúp bạn tìm hiểu thêm về cấu trúc của 1 file JSON."
   ]
  },
  {
   "cell_type": "code",
   "execution_count": null,
   "metadata": {},
   "outputs": [],
   "source": [
    "import json\n",
    "with open('env_variable_test.json', 'r') as j:\n",
    "    json_data = json.load(j)\n",
    "#     print(json_data)"
   ]
  },
  {
   "cell_type": "code",
   "execution_count": null,
   "metadata": {},
   "outputs": [],
   "source": [
    "import os\n",
    "os.environ['SENDER_EMAIL'] = json_data['SENDER_EMAIL'] ## INPUT: Your Email\n",
    "os.environ['PWD_EMAIL'] = json_data['PWD_EMAIL'] ## INPUT: Your App Password\n",
    "os.environ['WEATHER_API_KEY'] = json_data['WEATHER_API_KEY'] ## INPUT: OpenWeather API Key\n",
    "print('DONE! Get Env. Variable')"
   ]
  },
  {
   "cell_type": "code",
   "execution_count": null,
   "metadata": {},
   "outputs": [],
   "source": [
    "import email, smtplib, ssl # to automate email\n",
    "import email as mail\n",
    "from email import encoders\n",
    "from email.mime.base import MIMEBase\n",
    "from email.mime.multipart import MIMEMultipart\n",
    "from email.mime.text import MIMEText\n",
    "\n",
    "import requests, json # to pull API, and work with json\n",
    "import datetime as dt # to work with date, time\n",
    "from bs4 import BeautifulSoup # to work with web scrapping (HTML)\n",
    "from IPython.core.display import HTML # to display HTML in the notebook"
   ]
  },
  {
   "cell_type": "code",
   "execution_count": null,
   "metadata": {},
   "outputs": [],
   "source": [
    "print(os.environ['SENDER_EMAIL'])"
   ]
  },
  {
   "cell_type": "markdown",
   "metadata": {},
   "source": [
    "                "
   ]
  },
  {
   "cell_type": "markdown",
   "metadata": {},
   "source": [
    "### TODO #2\n",
    "1.   Từ Email Bot Code viết function `send_email`:\n",
    "  - **inputs**: subject, receiver_email, part1, part2, part3\n",
    "  - **output**: thực hiện việc gửi email và in ra kết quả\n",
    "2.   Kết hợp Loops (For ... in) với function để gửi cùng nội dung email đến 1 list user: `email_list = ['abc@gmail.com', 'xyz@gmail.com']` (thay đổi email bằng các email thật của bạn để test)"
   ]
  },
  {
   "cell_type": "code",
   "execution_count": null,
   "metadata": {
    "scrolled": true
   },
   "outputs": [],
   "source": [
    "subject = input('Enter your subject: ')#INPUT1: Subject of the Email\n",
    "receiver_email = input(\"Enter receiver email: \") #INPUT2: email address to receive the email\n",
    "sender_email = os.environ['SENDER_EMAIL']\n",
    "password = os.environ['PWD_EMAIL'] \n",
    "\n",
    "# (1) Create the email head (sender, receiver, and subject)\n",
    "email = MIMEMultipart()\n",
    "email[\"From\"] = sender_email\n",
    "email[\"To\"] = receiver_email \n",
    "email[\"Subject\"] = subject\n",
    "\n"
   ]
  },
  {
   "cell_type": "code",
   "execution_count": null,
   "metadata": {},
   "outputs": [],
   "source": [
    "# (2) Nội dung email\n",
    "# Có thể tùy chỉnh nội dung bằng cách thay đổi text trong đoạn này\n",
    "html1 = \"\"\"\n",
    "    <html>\n",
    "    <h1><strong>Hello there</strong></h1>\n",
    "    <body>\n",
    "    <p>This email sent from the code I learned!<br>\n",
    "       So happy and want to share with you!<br>\n",
    "       \n",
    "    </p>\n",
    "    </body>\n",
    "    </html>\n",
    "    \"\"\"\n",
    "html2 = \"\"\"\n",
    "<html>\n",
    "Email sent at <b>{}</b><br>\n",
    "</html>\n",
    "\"\"\".format(dt.datetime.now().isoformat())\n",
    "\n",
    "text3 = '--- End ----' # lưu ý đây là dữ liệu dạng chuỗi (string)\n"
   ]
  },
  {
   "cell_type": "code",
   "execution_count": null,
   "metadata": {},
   "outputs": [],
   "source": [
    "# Combine parts\n",
    "part1 = MIMEText(html1, 'html')\n",
    "part2 = MIMEText(html2, 'html')\n",
    "part3 = MIMEText(text3, 'plain')\n"
   ]
  },
  {
   "cell_type": "code",
   "execution_count": null,
   "metadata": {},
   "outputs": [],
   "source": [
    "email_list = [\"hieulam.1312@gmail.com\",\"lamhieupr@gmail.com\",\"hieulam@tanthanhgroup.com\"]\n",
    "for i in range(len(email_list)):\n",
    "    receiver_email=email_list"
   ]
  },
  {
   "cell_type": "code",
   "execution_count": null,
   "metadata": {},
   "outputs": [],
   "source": [
    "def send_email(receiver_email, subject, part1, part2, part3):\n",
    "        for i in range(0,len(receiver_email)+1):\n",
    "            if i<len(receiver_email):\n",
    "            # (1) Create the email head (sender, receiver, and subject)\n",
    "                email = MIMEMultipart()\n",
    "                email[\"From\"] = sender_email\n",
    "                email[\"To\"] = receiver_email[i]\n",
    "                email[\"Subject\"] = subject\n",
    "\n",
    "                email.attach(part1)\n",
    "                email.attach(part2)\n",
    "                email.attach(part3)\n",
    "\n",
    "                # (3) Create SMTP session for sending the mail\n",
    "                session = smtplib.SMTP('smtp.gmail.com', 587) #use gmail with port\n",
    "                session.starttls() #enable security\n",
    "                session.login(sender_email, password) #login with mail_id and password\n",
    "                text = email.as_string()\n",
    "                session.sendmail(sender_email, receiver_email, text)\n",
    "                session.quit()\n",
    "\n",
    "                print('DONE! Mail Sent'.format(sender_email, receiver_email))\n",
    "                break\n",
    "print(send_email(receiver_email, subject, part1, part2, part3))"
   ]
  },
  {
   "cell_type": "markdown",
   "metadata": {},
   "source": [
    " "
   ]
  },
  {
   "cell_type": "markdown",
   "metadata": {},
   "source": [
    "### TODO #3\n",
    "1. Trên file json kết quả:\n",
    "  - Lấy thông tin trạng thái thời tiết (weather) chính (main) ở London\n",
    "  - Lấy lat & lon (kinh độ và vĩ độ của London)\n",
    "2. Viết function `get_weather_data` \n",
    "  - inputs: city\n",
    "  - outputs: đoạn text thông tin thời tiết\n",
    "3. Dùng function `send_email` in **TODO #1**, thay phần 3 trong nội dùng email bằng thông tin thời tiết của London gửi cho 1 địa chỉ email của bạn"
   ]
  },
  {
   "cell_type": "code",
   "execution_count": null,
   "metadata": {
    "scrolled": true
   },
   "outputs": [],
   "source": [
    "#Lấy thông tin trạng thái thời tiết bằng API\n",
    "# base URL\n",
    "BASE_URL = \"https://api.openweathermap.org/data/2.5/weather?\"\n",
    "# City Name \n",
    "CITY = input('Enter your city: ')\n",
    "# API key \n",
    "API_KEY = os.environ['WEATHER_API_KEY']\n",
    "# upadting the URL\n",
    "URL = BASE_URL + \"q=\" + CITY + \"&appid=\" + API_KEY\n",
    "# HTTP request\n",
    "def finding_weather():\n",
    "    response = requests.get(URL)\n",
    "    # checking the status code of the request\n",
    "    if response.status_code == 200:\n",
    "       # getting data in the json format\n",
    "       data = response.json()\n",
    "       # getting the main dict block\n",
    "       main = data['main']\n",
    "       # getting temperature\n",
    "       temperature = main['temp']\n",
    "       # getting the humidity\n",
    "       humidity = main['humidity']\n",
    "       # getting the pressure\n",
    "       pressure = main['pressure']\n",
    "       # weather report\n",
    "       report = data['weather']\n",
    "       f = open('weather.txt','w') ## write to text file\n",
    "       print(f\"{CITY:-^30}\", file=f)\n",
    "       print(f\"Temperature: {temperature}\", file=f)\n",
    "       print(f\"Humidity: {humidity}\", file=f)\n",
    "       print(f\"Pressure: {pressure}\", file=f)\n",
    "       print(f\"Weather Report: {report[0]['description']}\", file=f)\n",
    "       f.close()\n",
    "       print(open(\"weather.txt\", \"r\").read())\n",
    "    else:\n",
    "       # showing the error message\n",
    "       print(\"Error in the HTTP request\")\n",
    "text3=str(open(\"weather.txt\", \"r\").read())\n",
    "print(text3)"
   ]
  },
  {
   "cell_type": "code",
   "execution_count": null,
   "metadata": {},
   "outputs": [],
   "source": [
    "# Gửi nội dung thời tiết cho email list bằng function send_email()\n",
    "# Combine parts\n",
    "part1 = MIMEText(html1, 'html')\n",
    "part2 = MIMEText(html2, 'html')\n",
    "part3 = MIMEText(text3, 'plain')\n",
    "\n",
    "print(send_email(receiver_email, subject, part1, part2, part3))"
   ]
  },
  {
   "cell_type": "markdown",
   "metadata": {},
   "source": [
    " "
   ]
  },
  {
   "cell_type": "markdown",
   "metadata": {},
   "source": [
    "### TODO #4\n",
    "1. Dùng function `send_email` in Excercise 1.1, thay phần 3 trong nội dùng email bằng thông tin COVID-19 từ Wikipedia gửi cho 1 địa chỉ email của bạn"
   ]
  },
  {
   "cell_type": "code",
   "execution_count": null,
   "metadata": {},
   "outputs": [],
   "source": [
    "response = requests.get(\n",
    "\turl=\"https://en.wikipedia.org/wiki/COVID-19\",\n",
    "  )\n",
    "print(\"API Status Code: \"+ str(response.status_code))\n",
    "soup = BeautifulSoup(response.content, 'html.parser')\n",
    "\n",
    "title = soup.find(id=\"firstHeading\")\n",
    "print(title.string)"
   ]
  },
  {
   "cell_type": "code",
   "execution_count": null,
   "metadata": {
    "collapsed": true
   },
   "outputs": [],
   "source": [
    "response.content ## Explore contents"
   ]
  },
  {
   "cell_type": "code",
   "execution_count": null,
   "metadata": {},
   "outputs": [],
   "source": [
    "# Get all the links\n",
    "p = soup.find(id=\"bodyContent\").find_all(\"p\") # \"a\""
   ]
  },
  {
   "cell_type": "code",
   "execution_count": null,
   "metadata": {
    "scrolled": false
   },
   "outputs": [],
   "source": [
    "from IPython.core.display import HTML\n",
    "HTML(str(p[4]))\n",
    "html3=str(p[4])"
   ]
  },
  {
   "cell_type": "code",
   "execution_count": null,
   "metadata": {},
   "outputs": [],
   "source": [
    "# Combine parts\n",
    "part1 = MIMEText(html1, 'html')\n",
    "part2 = MIMEText(html2, 'html')\n",
    "part3 = MIMEText(html3, 'html')\n",
    "\n",
    "print(send_email(receiver_email, subject, part1, part2, part3))"
   ]
  },
  {
   "cell_type": "markdown",
   "metadata": {},
   "source": [
    " "
   ]
  },
  {
   "cell_type": "markdown",
   "metadata": {},
   "source": [
    "### TODO #5\n",
    "* Add các địa chỉ email có ý nghĩa, và thêm dòng vào file csv (lưu ý không có dấu cách)\n",
    "* Dùng code để gửi email cho một list từ csv:\n",
    "  - Nếu email có contents = 'News' => Gửi thông tin COVID19\n",
    "  - Nếu email có contents = 'Weather' => Gửi thông tin thời tiết theo thành phố trong cột city (lưu ý check các city được hỗ trợ trong API)\n"
   ]
  },
  {
   "cell_type": "code",
   "execution_count": null,
   "metadata": {},
   "outputs": [],
   "source": [
    "csv = \"\"\"email,contents,city\n",
    "hieulam1312@gmail.com,News,Hanoi\n",
    "lamhieupr@gmail.com,Weather,London\n",
    "\"\"\"\n",
    "f = open('email_list.csv','w') ## write to text file\n",
    "f.write(csv)\n",
    "f.close()"
   ]
  },
  {
   "cell_type": "code",
   "execution_count": 1,
   "metadata": {},
   "outputs": [
    {
     "output_type": "error",
     "ename": "FileNotFoundError",
     "evalue": "[Errno 2] No such file or directory: 'email_list.csv'",
     "traceback": [
      "\u001b[1;31m---------------------------------------------------------------------------\u001b[0m",
      "\u001b[1;31mFileNotFoundError\u001b[0m                         Traceback (most recent call last)",
      "\u001b[1;32m<ipython-input-1-d117d65f4333>\u001b[0m in \u001b[0;36m<module>\u001b[1;34m\u001b[0m\n\u001b[0;32m      1\u001b[0m \u001b[1;32mimport\u001b[0m \u001b[0mpandas\u001b[0m \u001b[1;32mas\u001b[0m \u001b[0mpd\u001b[0m\u001b[1;33m\u001b[0m\u001b[1;33m\u001b[0m\u001b[0m\n\u001b[1;32m----> 2\u001b[1;33m \u001b[0memail_list\u001b[0m \u001b[1;33m=\u001b[0m \u001b[0mpd\u001b[0m\u001b[1;33m.\u001b[0m\u001b[0mread_csv\u001b[0m\u001b[1;33m(\u001b[0m\u001b[1;34m'email_list.csv'\u001b[0m\u001b[1;33m)\u001b[0m\u001b[1;33m\u001b[0m\u001b[1;33m\u001b[0m\u001b[0m\n\u001b[0m",
      "\u001b[1;32m~\\anaconda3\\lib\\site-packages\\pandas\\io\\parsers.py\u001b[0m in \u001b[0;36mread_csv\u001b[1;34m(filepath_or_buffer, sep, delimiter, header, names, index_col, usecols, squeeze, prefix, mangle_dupe_cols, dtype, engine, converters, true_values, false_values, skipinitialspace, skiprows, skipfooter, nrows, na_values, keep_default_na, na_filter, verbose, skip_blank_lines, parse_dates, infer_datetime_format, keep_date_col, date_parser, dayfirst, cache_dates, iterator, chunksize, compression, thousands, decimal, lineterminator, quotechar, quoting, doublequote, escapechar, comment, encoding, dialect, error_bad_lines, warn_bad_lines, delim_whitespace, low_memory, memory_map, float_precision)\u001b[0m\n\u001b[0;32m    684\u001b[0m     )\n\u001b[0;32m    685\u001b[0m \u001b[1;33m\u001b[0m\u001b[0m\n\u001b[1;32m--> 686\u001b[1;33m     \u001b[1;32mreturn\u001b[0m \u001b[0m_read\u001b[0m\u001b[1;33m(\u001b[0m\u001b[0mfilepath_or_buffer\u001b[0m\u001b[1;33m,\u001b[0m \u001b[0mkwds\u001b[0m\u001b[1;33m)\u001b[0m\u001b[1;33m\u001b[0m\u001b[1;33m\u001b[0m\u001b[0m\n\u001b[0m\u001b[0;32m    687\u001b[0m \u001b[1;33m\u001b[0m\u001b[0m\n\u001b[0;32m    688\u001b[0m \u001b[1;33m\u001b[0m\u001b[0m\n",
      "\u001b[1;32m~\\anaconda3\\lib\\site-packages\\pandas\\io\\parsers.py\u001b[0m in \u001b[0;36m_read\u001b[1;34m(filepath_or_buffer, kwds)\u001b[0m\n\u001b[0;32m    450\u001b[0m \u001b[1;33m\u001b[0m\u001b[0m\n\u001b[0;32m    451\u001b[0m     \u001b[1;31m# Create the parser.\u001b[0m\u001b[1;33m\u001b[0m\u001b[1;33m\u001b[0m\u001b[1;33m\u001b[0m\u001b[0m\n\u001b[1;32m--> 452\u001b[1;33m     \u001b[0mparser\u001b[0m \u001b[1;33m=\u001b[0m \u001b[0mTextFileReader\u001b[0m\u001b[1;33m(\u001b[0m\u001b[0mfp_or_buf\u001b[0m\u001b[1;33m,\u001b[0m \u001b[1;33m**\u001b[0m\u001b[0mkwds\u001b[0m\u001b[1;33m)\u001b[0m\u001b[1;33m\u001b[0m\u001b[1;33m\u001b[0m\u001b[0m\n\u001b[0m\u001b[0;32m    453\u001b[0m \u001b[1;33m\u001b[0m\u001b[0m\n\u001b[0;32m    454\u001b[0m     \u001b[1;32mif\u001b[0m \u001b[0mchunksize\u001b[0m \u001b[1;32mor\u001b[0m \u001b[0miterator\u001b[0m\u001b[1;33m:\u001b[0m\u001b[1;33m\u001b[0m\u001b[1;33m\u001b[0m\u001b[0m\n",
      "\u001b[1;32m~\\anaconda3\\lib\\site-packages\\pandas\\io\\parsers.py\u001b[0m in \u001b[0;36m__init__\u001b[1;34m(self, f, engine, **kwds)\u001b[0m\n\u001b[0;32m    944\u001b[0m             \u001b[0mself\u001b[0m\u001b[1;33m.\u001b[0m\u001b[0moptions\u001b[0m\u001b[1;33m[\u001b[0m\u001b[1;34m\"has_index_names\"\u001b[0m\u001b[1;33m]\u001b[0m \u001b[1;33m=\u001b[0m \u001b[0mkwds\u001b[0m\u001b[1;33m[\u001b[0m\u001b[1;34m\"has_index_names\"\u001b[0m\u001b[1;33m]\u001b[0m\u001b[1;33m\u001b[0m\u001b[1;33m\u001b[0m\u001b[0m\n\u001b[0;32m    945\u001b[0m \u001b[1;33m\u001b[0m\u001b[0m\n\u001b[1;32m--> 946\u001b[1;33m         \u001b[0mself\u001b[0m\u001b[1;33m.\u001b[0m\u001b[0m_make_engine\u001b[0m\u001b[1;33m(\u001b[0m\u001b[0mself\u001b[0m\u001b[1;33m.\u001b[0m\u001b[0mengine\u001b[0m\u001b[1;33m)\u001b[0m\u001b[1;33m\u001b[0m\u001b[1;33m\u001b[0m\u001b[0m\n\u001b[0m\u001b[0;32m    947\u001b[0m \u001b[1;33m\u001b[0m\u001b[0m\n\u001b[0;32m    948\u001b[0m     \u001b[1;32mdef\u001b[0m \u001b[0mclose\u001b[0m\u001b[1;33m(\u001b[0m\u001b[0mself\u001b[0m\u001b[1;33m)\u001b[0m\u001b[1;33m:\u001b[0m\u001b[1;33m\u001b[0m\u001b[1;33m\u001b[0m\u001b[0m\n",
      "\u001b[1;32m~\\anaconda3\\lib\\site-packages\\pandas\\io\\parsers.py\u001b[0m in \u001b[0;36m_make_engine\u001b[1;34m(self, engine)\u001b[0m\n\u001b[0;32m   1176\u001b[0m     \u001b[1;32mdef\u001b[0m \u001b[0m_make_engine\u001b[0m\u001b[1;33m(\u001b[0m\u001b[0mself\u001b[0m\u001b[1;33m,\u001b[0m \u001b[0mengine\u001b[0m\u001b[1;33m=\u001b[0m\u001b[1;34m\"c\"\u001b[0m\u001b[1;33m)\u001b[0m\u001b[1;33m:\u001b[0m\u001b[1;33m\u001b[0m\u001b[1;33m\u001b[0m\u001b[0m\n\u001b[0;32m   1177\u001b[0m         \u001b[1;32mif\u001b[0m \u001b[0mengine\u001b[0m \u001b[1;33m==\u001b[0m \u001b[1;34m\"c\"\u001b[0m\u001b[1;33m:\u001b[0m\u001b[1;33m\u001b[0m\u001b[1;33m\u001b[0m\u001b[0m\n\u001b[1;32m-> 1178\u001b[1;33m             \u001b[0mself\u001b[0m\u001b[1;33m.\u001b[0m\u001b[0m_engine\u001b[0m \u001b[1;33m=\u001b[0m \u001b[0mCParserWrapper\u001b[0m\u001b[1;33m(\u001b[0m\u001b[0mself\u001b[0m\u001b[1;33m.\u001b[0m\u001b[0mf\u001b[0m\u001b[1;33m,\u001b[0m \u001b[1;33m**\u001b[0m\u001b[0mself\u001b[0m\u001b[1;33m.\u001b[0m\u001b[0moptions\u001b[0m\u001b[1;33m)\u001b[0m\u001b[1;33m\u001b[0m\u001b[1;33m\u001b[0m\u001b[0m\n\u001b[0m\u001b[0;32m   1179\u001b[0m         \u001b[1;32melse\u001b[0m\u001b[1;33m:\u001b[0m\u001b[1;33m\u001b[0m\u001b[1;33m\u001b[0m\u001b[0m\n\u001b[0;32m   1180\u001b[0m             \u001b[1;32mif\u001b[0m \u001b[0mengine\u001b[0m \u001b[1;33m==\u001b[0m \u001b[1;34m\"python\"\u001b[0m\u001b[1;33m:\u001b[0m\u001b[1;33m\u001b[0m\u001b[1;33m\u001b[0m\u001b[0m\n",
      "\u001b[1;32m~\\anaconda3\\lib\\site-packages\\pandas\\io\\parsers.py\u001b[0m in \u001b[0;36m__init__\u001b[1;34m(self, src, **kwds)\u001b[0m\n\u001b[0;32m   2006\u001b[0m         \u001b[0mkwds\u001b[0m\u001b[1;33m[\u001b[0m\u001b[1;34m\"usecols\"\u001b[0m\u001b[1;33m]\u001b[0m \u001b[1;33m=\u001b[0m \u001b[0mself\u001b[0m\u001b[1;33m.\u001b[0m\u001b[0musecols\u001b[0m\u001b[1;33m\u001b[0m\u001b[1;33m\u001b[0m\u001b[0m\n\u001b[0;32m   2007\u001b[0m \u001b[1;33m\u001b[0m\u001b[0m\n\u001b[1;32m-> 2008\u001b[1;33m         \u001b[0mself\u001b[0m\u001b[1;33m.\u001b[0m\u001b[0m_reader\u001b[0m \u001b[1;33m=\u001b[0m \u001b[0mparsers\u001b[0m\u001b[1;33m.\u001b[0m\u001b[0mTextReader\u001b[0m\u001b[1;33m(\u001b[0m\u001b[0msrc\u001b[0m\u001b[1;33m,\u001b[0m \u001b[1;33m**\u001b[0m\u001b[0mkwds\u001b[0m\u001b[1;33m)\u001b[0m\u001b[1;33m\u001b[0m\u001b[1;33m\u001b[0m\u001b[0m\n\u001b[0m\u001b[0;32m   2009\u001b[0m         \u001b[0mself\u001b[0m\u001b[1;33m.\u001b[0m\u001b[0munnamed_cols\u001b[0m \u001b[1;33m=\u001b[0m \u001b[0mself\u001b[0m\u001b[1;33m.\u001b[0m\u001b[0m_reader\u001b[0m\u001b[1;33m.\u001b[0m\u001b[0munnamed_cols\u001b[0m\u001b[1;33m\u001b[0m\u001b[1;33m\u001b[0m\u001b[0m\n\u001b[0;32m   2010\u001b[0m \u001b[1;33m\u001b[0m\u001b[0m\n",
      "\u001b[1;32mpandas\\_libs\\parsers.pyx\u001b[0m in \u001b[0;36mpandas._libs.parsers.TextReader.__cinit__\u001b[1;34m()\u001b[0m\n",
      "\u001b[1;32mpandas\\_libs\\parsers.pyx\u001b[0m in \u001b[0;36mpandas._libs.parsers.TextReader._setup_parser_source\u001b[1;34m()\u001b[0m\n",
      "\u001b[1;31mFileNotFoundError\u001b[0m: [Errno 2] No such file or directory: 'email_list.csv'"
     ]
    }
   ],
   "source": [
    "import pandas as pd\n",
    "email_list = pd.read_csv('email_list.csv')"
   ]
  },
  {
   "cell_type": "code",
   "execution_count": null,
   "metadata": {
    "scrolled": true
   },
   "outputs": [],
   "source": [
    "email_list"
   ]
  },
  {
   "cell_type": "code",
   "execution_count": null,
   "metadata": {},
   "outputs": [],
   "source": [
    "for i in list(range(2)):\n",
    "  print('Email #{}'.format(i))\n",
    "  if email_list['contents'][i] == 'News':\n",
    "    print('COVID To: {}'.format(email_list['email'][i]))\n",
    "    # TODO: Send a COVID News\n",
    "    receiver_email=email_list['email'][i]\n",
    "    part1 = MIMEText(html1, 'html')\n",
    "    part2 = MIMEText(html2, 'html')\n",
    "    part3 = MIMEText(html3, 'html')\n",
    "    print(send_email(receiver_email, subject, part1, part2, part3))\n",
    "\n",
    "    print(receiver_email)\n",
    "  elif email_list['contents'][i] == 'Weather':\n",
    "    print('Weather To: {}'.format(email_list['email'][i]))\n",
    "    # TODO: Send a Weather updates by the city\n",
    "    receiver_email=email_list['email'][i]\n",
    "    part1 = MIMEText(html1, 'html')\n",
    "    part2 = MIMEText(html2, 'html')\n",
    "    part3 = MIMEText(text3, 'plain')\n",
    "    print(send_email(receiver_email, subject, part1, part2, part3))\n",
    "  else:\n",
    "    print('Invalid Contents')\n",
    "print('DONE!')"
   ]
  }
 ],
 "metadata": {
  "kernelspec": {
   "name": "python385jvsc74a57bd0c469c999aae2bf6d578d6881606ced546d1546d312a4811937df5b24665ee8bc",
   "display_name": "Python 3.8.5 32-bit ('base': conda)"
  },
  "language_info": {
   "codemirror_mode": {
    "name": "ipython",
    "version": 3
   },
   "file_extension": ".py",
   "mimetype": "text/x-python",
   "name": "python",
   "nbconvert_exporter": "python",
   "pygments_lexer": "ipython3",
   "version": "3.8.5"
  }
 },
 "nbformat": 4,
 "nbformat_minor": 4
}