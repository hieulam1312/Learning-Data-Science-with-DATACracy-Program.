{
  "nbformat": 4,
  "nbformat_minor": 0,
  "metadata": {
    "colab": {
      "name": "home_assignment_5.ipynb",
      "provenance": [],
      "toc_visible": true
    },
    "kernelspec": {
      "name": "python385jvsc74a57bd0c469c999aae2bf6d578d6881606ced546d1546d312a4811937df5b24665ee8bc",
      "display_name": "Python 3.8.5 32-bit ('base': conda)"
    },
    "language_info": {
      "name": "python",
      "version": "3.8.5"
    }
  },
  "cells": [
    {
      "cell_type": "code",
      "execution_count": 8,
      "metadata": {},
      "outputs": [
        {
          "output_type": "execute_result",
          "data": {
            "text/plain": [
              "<Response 0 bytes [403 FORBIDDEN]>"
            ]
          },
          "metadata": {},
          "execution_count": 8
        }
      ],
      "source": [
        "from flask import Flask, request, Response\n",
        "from viberbot import Api\n",
        "from viberbot.api.bot_configuration import BotConfiguration\n",
        "from viberbot.api.messages import VideoMessage\n",
        "from viberbot.api.messages.text_message import TextMessage\n",
        "import logging\n",
        "\n",
        "from viberbot.api.viber_requests import ViberConversationStartedRequest\n",
        "from viberbot.api.viber_requests import ViberFailedRequest\n",
        "from viberbot.api.viber_requests import ViberMessageRequest\n",
        "from viberbot.api.viber_requests import ViberSubscribedRequest\n",
        "from viberbot.api.viber_requests import ViberUnsubscribedRequest\n",
        "\n",
        "app = Flask(__name__)\n",
        "viber = Api(BotConfiguration(\n",
        "    name='TTFTRIỂN KHAI MẪU',\n",
        "    avatar='http://site.com/avatar.jpg',\n",
        "    auth_token='4d6c8ac02c27d2e7-ea0e781c5fd02b3a-501728ab9d0961f9'\n",
        "))\n",
        "\n",
        "\n",
        "@app.route('/', methods=['POST'])\n",
        "def incoming():\n",
        "    logger.debug(\"received request. post data: {0}\".format(request.get_data()))\n",
        "    # every viber message is signed, you can verify the signature using this method\n",
        "    if not viber.verify_signature(request.get_data(), request.headers.get('X-Viber-Content-Signature')):\n",
        "        return Response(status=403)\n",
        "\n",
        "Response(status=403)\n"
      ]
    },
    {
      "cell_type": "code",
      "execution_count": null,
      "metadata": {},
      "outputs": [],
      "source": [
        "\n",
        "    # this library supplies a simple way to receive a request object\n",
        "    viber_request = viber.parse_request(request.get_data())\n",
        "\n",
        "    if isinstance(viber_request, ViberMessageRequest):\n",
        "        message = viber_request.message\n",
        "        # lets echo back\n",
        "        viber.send_messages(viber_request.sender.id, [\n",
        "            message\n",
        "        ])\n",
        "    elif isinstance(viber_request, ViberSubscribedRequest):\n",
        "        viber.send_messages(viber_request.get_user.id, [\n",
        "            TextMessage(text=\"thanks for subscribing!\")\n",
        "        ])\n",
        "    elif isinstance(viber_request, ViberFailedRequest):\n",
        "        logger.warn(\"client failed receiving message. failure: {0}\".format(viber_request))\n",
        "\n",
        "    return Response(status=200)\n",
        "\n",
        "if __name__ == \"__main__\":\n",
        "    context = ('server.crt', 'server.key')\n",
        "    app.run(host='0.0.0.0', port=443, debug=True, ssl_context=context)"
      ]
    },
    {
      "cell_type": "code",
      "execution_count": 9,
      "metadata": {},
      "outputs": [
        {
          "output_type": "error",
          "ename": "SyntaxError",
          "evalue": "invalid syntax (<ipython-input-9-713ef977108e>, line 2)",
          "traceback": [
            "\u001b[1;36m  File \u001b[1;32m\"<ipython-input-9-713ef977108e>\"\u001b[1;36m, line \u001b[1;32m2\u001b[0m\n\u001b[1;33m    https://chatapi.viber.com/pa/set_webhook\u001b[0m\n\u001b[1;37m          ^\u001b[0m\n\u001b[1;31mSyntaxError\u001b[0m\u001b[1;31m:\u001b[0m invalid syntax\n"
          ]
        }
      ],
      "source": [
        "X-Viber-Auth-Token: \"4d6c8ac02c27d2e7-ea0e781c5fd02b3a-501728ab9d0961f9\"\n",
        "https://chatapi.viber.com/pa/set_webhook\n",
        "{\n",
        "   \"url\":\"https://my.host.com\",\n",
        "   \"event_types\":[\n",
        "      \"delivered\",\n",
        "      \"seen\",\n",
        "      \"failed\",\n",
        "      \"subscribed\",\n",
        "      \"unsubscribed\",\n",
        "      \"conversation_started\"\n",
        "   ],\n",
        "   \"send_name\": true,\n",
        "   \"send_photo\": true\n",
        "}\n",
        "\n",
        "{\n",
        "   \"url\":\"https://my.host.com\",\n",
        "   \"event_types\":[\n",
        "      \"delivered\",\n",
        "      \"seen\",\n",
        "      \"failed\",\n",
        "      \"subscribed\",\n",
        "      \"unsubscribed\",\n",
        "      \"conversation_started\"\n",
        "   ],\n",
        "   \"send_name\": true,\n",
        "   \"send_photo\": true\n",
        "}"
      ]
    }
  ]
}